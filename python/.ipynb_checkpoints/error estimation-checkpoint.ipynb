{
 "metadata": {
  "name": ""
 },
 "nbformat": 3,
 "nbformat_minor": 0,
 "worksheets": [
  {
   "cells": [
    {
     "cell_type": "code",
     "collapsed": false,
     "input": [
      "import numpy\n",
      "import scipy\n",
      "import pandas\n",
      "import pyximport\n",
      "import matplotlib\n",
      "\n",
      "from matplotlib import pyplot as plt\n",
      "%matplotlib inline"
     ],
     "language": "python",
     "metadata": {},
     "outputs": [
      {
       "output_type": "stream",
       "stream": "stderr",
       "text": [
        "/Users/laflij/Software/anaconda/envs/conda33/lib/python3.3/site-packages/matplotlib/mathtext.py:46: UserWarning: Due to a bug in pyparsing <= 2.0.0 on Python 3.x, packrat parsing has been disabled.  Mathtext rendering will be much slower as a result.  Install pyparsing 2.0.0 or later to improve performance.\n",
        "  warn(\"Due to a bug in pyparsing <= 2.0.0 on Python 3.x, packrat parsing \"\n"
       ]
      }
     ],
     "prompt_number": 1
    },
    {
     "cell_type": "code",
     "collapsed": false,
     "input": [
      "N = 1000\n",
      "rows = 250000\n",
      "cols = 7"
     ],
     "language": "python",
     "metadata": {},
     "outputs": [],
     "prompt_number": 2
    },
    {
     "cell_type": "code",
     "collapsed": false,
     "input": [
      "data = numpy.zeros((rows,cols))\n",
      "data = numpy.genfromtxt('../run-28-10-2013_20-55/thermodata.txt', dtype=float, comments='#', delimiter=',')\n",
      "data = data[0:N,:]"
     ],
     "language": "python",
     "metadata": {},
     "outputs": [],
     "prompt_number": 3
    },
    {
     "cell_type": "code",
     "collapsed": false,
     "input": [
      "KE = data[:,4]\n",
      "PE = data[:,5]\n",
      "TE = data[:,6]"
     ],
     "language": "python",
     "metadata": {},
     "outputs": [],
     "prompt_number": 4
    },
    {
     "cell_type": "code",
     "collapsed": false,
     "input": [
      "def var_blk(data, M):\n",
      "    a_p = numpy.reshape(data, (data.size // (M+1), 1, M+1))                          \n",
      "    a_p = numpy.average(a_p, 2)\n",
      "    L_p = numpy.size(a_p)\n",
      "    a_ave_p = numpy.average(a_p)\n",
      "    sigma2_ap = 1/L_p*numpy.sum(a_p**2 - a_ave_p for a_p in a_p)\n",
      "    sigma2_h = sigma2_ap/(L_p - 1) + numpy.sqrt(2*sigma2_ap**2/(L_p - 1)**3)\n",
      "    sigma2_l = sigma2_ap/(L_p - 1) - numpy.sqrt(2*sigma2_ap**2/(L_p - 1)**3)\n",
      "    return numpy.array([(M+1), sigma2_l, sigma2_h])"
     ],
     "language": "python",
     "metadata": {},
     "outputs": [],
     "prompt_number": 5
    },
    {
     "cell_type": "code",
     "collapsed": false,
     "input": [
      "var_list = []\n",
      "for m in range(1,16):\n",
      "    if N % (m+1) == 0:\n",
      "        var_list.append([var_blk(PE, m)])"
     ],
     "language": "python",
     "metadata": {},
     "outputs": [],
     "prompt_number": 6
    },
    {
     "cell_type": "code",
     "collapsed": false,
     "input": [
      "var_arr = numpy.array(var_list)\n",
      "var_mat = numpy.matrix(var_arr)\n",
      "print(var_mat)"
     ],
     "language": "python",
     "metadata": {},
     "outputs": [
      {
       "output_type": "stream",
       "stream": "stdout",
       "text": [
        "[[   2.           33.34289693   37.85004321]\n",
        " [   4.           64.93279959   77.71741777]\n",
        " [   5.           80.29693146   98.19046054]\n",
        " [   8.          125.01981022  161.39445875]\n",
        " [  10.          153.8710507   204.85867348]]\n"
       ]
      }
     ],
     "prompt_number": 7
    },
    {
     "cell_type": "code",
     "collapsed": false,
     "input": [
      "numpy.savetxt('../run-28-10-2013_20-55/var_PE.txt', var_mat, delimiter=' ')"
     ],
     "language": "python",
     "metadata": {},
     "outputs": [],
     "prompt_number": 8
    },
    {
     "cell_type": "code",
     "collapsed": false,
     "input": [],
     "language": "python",
     "metadata": {},
     "outputs": [],
     "prompt_number": 8
    }
   ],
   "metadata": {}
  }
 ]
}